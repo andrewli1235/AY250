{
 "metadata": {
  "name": "mpl_events"
 },
 "nbformat": 3,
 "nbformat_minor": 0,
 "worksheets": [
  {
   "cells": [
    {
     "cell_type": "markdown",
     "metadata": {},
     "source": [
      "Matplotlib Events\n",
      "-------------------\n",
      "\n",
      "Let's first explore and go through what keys are already used for callbacks:\n",
      "`o p l g h c v`"
     ]
    },
    {
     "cell_type": "code",
     "collapsed": false,
     "input": [
      "%pylab\n",
      "# don't run this with inline mode - that prevents us from doing interesting things with events"
     ],
     "language": "python",
     "metadata": {},
     "outputs": []
    },
    {
     "cell_type": "code",
     "collapsed": false,
     "input": [
      "[(k,rcParams[k]) for k in rcParams if 'keymap' in k]"
     ],
     "language": "python",
     "metadata": {},
     "outputs": []
    },
    {
     "cell_type": "code",
     "collapsed": true,
     "input": [
      "%loadpy http://matplotlib.sourceforge.net/examples/widgets/slider_demo.py"
     ],
     "language": "python",
     "metadata": {},
     "outputs": []
    },
    {
     "cell_type": "code",
     "collapsed": true,
     "input": [
      "%loadpy http://matplotlib.sourceforge.net/examples/widgets/cursor.py"
     ],
     "language": "python",
     "metadata": {},
     "outputs": []
    },
    {
     "cell_type": "code",
     "collapsed": true,
     "input": [
      "%loadpy http://matplotlib.sourceforge.net/examples/event_handling/keypress_demo.py"
     ],
     "language": "python",
     "metadata": {},
     "outputs": []
    },
    {
     "cell_type": "markdown",
     "metadata": {},
     "source": [
      "Now modify the example above to pan left and right the width of the current view using `,` and `.` keys"
     ]
    },
    {
     "cell_type": "code",
     "collapsed": false,
     "input": [
      "loadpy http://matplotlib.sourceforge.net/examples/event_handling/data_browser.py"
     ],
     "language": "python",
     "metadata": {},
     "outputs": []
    },
    {
     "cell_type": "code",
     "collapsed": true,
     "input": [],
     "language": "python",
     "metadata": {},
     "outputs": []
    }
   ],
   "metadata": {}
  }
 ]
}