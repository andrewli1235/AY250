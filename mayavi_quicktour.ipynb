{
 "metadata": {
  "name": "mayavi_quicktour"
 }, 
 "nbformat": 2, 
 "worksheets": [
  {
   "cells": [
    {
     "cell_type": "markdown", 
     "source": [
      "# A few simple Mayavi examples", 
      "", 
      "These are all taken from the excellent [Mayavi documentation](http://github.enthought.com/mayavi/mayavi/auto/examples.html)."
     ]
    }, 
    {
     "cell_type": "code", 
     "collapsed": false, 
     "input": [
      "%pylab wx"
     ], 
     "language": "python", 
     "outputs": [
      {
       "output_type": "stream", 
       "stream": "stdout", 
       "text": [
        "", 
        "Welcome to pylab, a matplotlib-based Python environment [backend: WXAgg].", 
        "For more information, type 'help(pylab)'."
       ]
      }
     ], 
     "prompt_number": 1
    }, 
    {
     "cell_type": "markdown", 
     "source": [
      "## Line plot"
     ]
    }, 
    {
     "cell_type": "code", 
     "collapsed": false, 
     "input": [
      "import numpy", 
      "from mayavi.mlab import *", 
      "", 
      "def test_plot3d():", 
      "    \"\"\"Generates a pretty set of lines.\"\"\"", 
      "    n_mer, n_long = 6, 11", 
      "    pi = numpy.pi", 
      "    dphi = pi/1000.0", 
      "    phi = numpy.arange(0.0, 2*pi + 0.5*dphi, dphi)", 
      "    mu = phi*n_mer", 
      "    x = numpy.cos(mu)*(1+numpy.cos(n_long*mu/n_mer)*0.5)", 
      "    y = numpy.sin(mu)*(1+numpy.cos(n_long*mu/n_mer)*0.5)", 
      "    z = numpy.sin(n_long*mu/n_mer)*0.5", 
      "", 
      "    l = plot3d(x, y, z, numpy.sin(mu), tube_radius=0.025, colormap='Spectral')", 
      "    return l", 
      "", 
      "test_plot3d()"
     ], 
     "language": "python", 
     "outputs": [
      {
       "output_type": "pyout", 
       "prompt_number": 19, 
       "text": [
        "<mayavi.modules.surface.Surface at 0x12a93530>"
       ]
      }
     ], 
     "prompt_number": 19
    }, 
    {
     "cell_type": "markdown", 
     "source": [
      "## Point plot"
     ]
    }, 
    {
     "cell_type": "code", 
     "collapsed": false, 
     "input": [
      "import numpy", 
      "from mayavi.mlab import *", 
      "", 
      "def test_points3d():", 
      "    t = numpy.linspace(0, 4*numpy.pi, 20)", 
      "    cos = numpy.cos", 
      "    sin = numpy.sin", 
      "", 
      "    x = sin(2*t)", 
      "    y = cos(t)", 
      "    z = cos(2*t)", 
      "    s = 2+sin(t)", 
      "", 
      "    return points3d(x, y, z, s, colormap=\"copper\", scale_factor=.25)", 
      "", 
      "test_points3d()"
     ], 
     "language": "python", 
     "outputs": [
      {
       "output_type": "pyout", 
       "prompt_number": 15, 
       "text": [
        "<mayavi.modules.glyph.Glyph at 0x1880e9b0>"
       ]
      }
     ], 
     "prompt_number": 15
    }, 
    {
     "cell_type": "markdown", 
     "source": [
      "## Simple surfaces"
     ]
    }, 
    {
     "cell_type": "code", 
     "collapsed": false, 
     "input": [
      "import numpy", 
      "from mayavi.mlab import *", 
      "", 
      "def test_surf():", 
      "    \"\"\"Test surf on regularly spaced co-ordinates like MayaVi.\"\"\"", 
      "    def f(x, y):", 
      "        sin, cos = numpy.sin, numpy.cos", 
      "        return sin(x+y) + sin(2*x - y) + cos(3*x+4*y)", 
      "", 
      "    x, y = numpy.mgrid[-7.:7.05:0.1, -5.:5.05:0.05]", 
      "    s = surf(x, y, f)", 
      "    #cs = contour_surf(x, y, f, contour_z=0)", 
      "    return s", 
      "", 
      "test_surf()"
     ], 
     "language": "python", 
     "outputs": [
      {
       "output_type": "pyout", 
       "prompt_number": 17, 
       "text": [
        "<mayavi.modules.surface.Surface at 0x7feca088ad10>"
       ]
      }
     ], 
     "prompt_number": 17
    }, 
    {
     "cell_type": "markdown", 
     "source": [
      "## Images"
     ]
    }, 
    {
     "cell_type": "code", 
     "collapsed": false, 
     "input": [
      "import numpy", 
      "from mayavi.mlab import *", 
      "", 
      "def test_imshow():", 
      "    \"\"\" Use imshow to visualize a 2D 10x10 random array.", 
      "    \"\"\"", 
      "    s = numpy.random.random((10,10))", 
      "    return imshow(s, colormap='gist_earth')", 
      "", 
      "test_imshow()"
     ], 
     "language": "python", 
     "outputs": [
      {
       "output_type": "pyout", 
       "prompt_number": 12, 
       "text": [
        "<mayavi.modules.image_actor.ImageActor at 0x7feca08b94d0>"
       ]
      }
     ], 
     "prompt_number": 12
    }, 
    {
     "cell_type": "markdown", 
     "source": [
      "## Flow"
     ]
    }, 
    {
     "cell_type": "code", 
     "collapsed": false, 
     "input": [
      "import numpy", 
      "from mayavi.mlab import *", 
      "", 
      "def test_flow():", 
      "    x, y, z = numpy.mgrid[0:5, 0:5, 0:5]", 
      "    r = numpy.sqrt(x**2 + y**2 + z**4)", 
      "    u = y*numpy.sin(r)/r", 
      "    v = -x*numpy.sin(r)/r", 
      "    w = numpy.zeros_like(z)", 
      "    obj = flow(u, v, w)", 
      "    return obj", 
      "", 
      "test_flow()"
     ], 
     "language": "python", 
     "outputs": [
      {
       "output_type": "pyout", 
       "prompt_number": 18, 
       "text": [
        "<mayavi.modules.streamline.Streamline at 0x1a15ce90>"
       ]
      }
     ], 
     "prompt_number": 18
    }, 
    {
     "cell_type": "markdown", 
     "source": [
      "### The Lorenz attractor"
     ]
    }, 
    {
     "cell_type": "code", 
     "collapsed": true, 
     "input": [
      "%loadpy http://github.enthought.com/mayavi/mayavi/_downloads/lorenz.py"
     ], 
     "language": "python", 
     "outputs": [], 
     "prompt_number": 3
    }, 
    {
     "cell_type": "code", 
     "collapsed": true, 
     "input": [
      "\"\"\"", 
      "An example displaying the trajectories for the Lorenz system of", 
      "equations along with the z-nullcline.", 
      "", 
      "The vector field of the Lorenz system flow is integrated to display", 
      "trajectories using mlab's flow function:", 
      ":func:`mayavi.mlab.flow`.", 
      "", 
      "The z-nullcline is plotted by extracting the z component of the vector", 
      "field data source with the ExtractVectorComponent filter, and applying", 
      "an IsoSurface module on this scalar component.", 
      "\"\"\"", 
      "# Author: Prabhu Ramachandran <prabhu@aero.iitb.ac.in>", 
      "# Copyright (c) 2008-2009, Enthought, Inc.", 
      "# License: BSD Style.", 
      "", 
      "import numpy", 
      "from mayavi import mlab", 
      "", 
      "def lorenz(x, y, z, s=10.,r=28., b=8./3.):", 
      "    \"\"\"The Lorenz system.\"\"\"", 
      "    u = s*(y-x)", 
      "    v = r*x -y - x*z", 
      "    w = x*y - b*z", 
      "    return u, v, w", 
      "", 
      "# Sample the space in an interesting region.", 
      "x, y, z = numpy.mgrid[-50:50:100j,-50:50:100j,-10:60:70j]", 
      "u, v, w = lorenz(x, y, z)", 
      "fig = mlab.figure(size=(400, 300), bgcolor=(0, 0, 0))", 
      "", 
      "# Plot the flow of trajectories with suitable parameters.", 
      "f = mlab.flow(x, y, z, u, v, w, line_width=3, colormap='Paired')", 
      "f.module_manager.scalar_lut_manager.reverse_lut = True", 
      "f.stream_tracer.integration_direction = 'both'", 
      "f.stream_tracer.maximum_propagation = 200", 
      "# Uncomment the following line if you want to hide the seed:", 
      "#f.seed.widget.enabled = False", 
      "", 
      "# Extract the z-velocity from the vectors and plot the 0 level set", 
      "# hence producing the z-nullcline.", 
      "src = f.mlab_source.m_data", 
      "e = mlab.pipeline.extract_vector_components(src)", 
      "e.component = 'z-component'", 
      "zc = mlab.pipeline.iso_surface(e, opacity=0.5, contours=[0,],", 
      "            color=(0.6, 1, 0.2))", 
      "# When using transparency, hiding 'backface' triangles often gives better", 
      "# results", 
      "zc.actor.property.backface_culling = True", 
      "", 
      "# A nice view of the plot.", 
      "mlab.view(140, 120, 113, [0.65, 1.5, 27])", 
      "mlab.show()"
     ], 
     "language": "python", 
     "outputs": [], 
     "prompt_number": 4
    }
   ]
  }
 ]
}