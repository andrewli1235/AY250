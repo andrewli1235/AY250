{
 "metadata": {
  "name": "image_tutorial"
 }, 
 "nbformat": 2, 
 "worksheets": [
  {
   "cells": [
    {
     "cell_type": "markdown", 
     "source": [
      "# Matplotlib image tutorial", 
      "", 
      "This is a copy of the official [matplotlib introductory image tutorial](http://matplotlib.sourceforge.net/users/image_tutorial.html)", 
      "in the form of a notebook."
     ]
    }, 
    {
     "cell_type": "code", 
     "collapsed": false, 
     "input": [
      "%pylab inline", 
      "import matplotlib.pyplot as plt", 
      "import matplotlib.image as mpimg", 
      "import numpy as np"
     ], 
     "language": "python", 
     "outputs": [], 
     "prompt_number": 1
    }, 
    {
     "cell_type": "code", 
     "collapsed": true, 
     "input": [
      "img = mpimg.imread('data/stinkbug.png')"
     ], 
     "language": "python", 
     "outputs": [], 
     "prompt_number": 2
    }, 
    {
     "cell_type": "code", 
     "collapsed": false, 
     "input": [
      "plt.imshow(img)"
     ], 
     "language": "python", 
     "outputs": [], 
     "prompt_number": 3
    }, 
    {
     "cell_type": "code", 
     "collapsed": false, 
     "input": [
      "lum_img = img[:,:,0]", 
      "fig, ax = plt.subplots()", 
      "imgplot = ax.imshow(lum_img)"
     ], 
     "language": "python", 
     "outputs": [], 
     "prompt_number": 4
    }, 
    {
     "cell_type": "code", 
     "collapsed": false, 
     "input": [
      "imgplot.set_cmap('hot')", 
      "imgplot.figure"
     ], 
     "language": "python", 
     "outputs": [], 
     "prompt_number": 5
    }, 
    {
     "cell_type": "code", 
     "collapsed": false, 
     "input": [
      "imgplot.set_cmap('spectral')", 
      "imgplot.figure"
     ], 
     "language": "python", 
     "outputs": [], 
     "prompt_number": 6
    }, 
    {
     "cell_type": "code", 
     "collapsed": false, 
     "input": [
      "imgplot.set_cmap('spectral')", 
      "fig.colorbar(imgplot)", 
      "fig"
     ], 
     "language": "python", 
     "outputs": [], 
     "prompt_number": 7
    }, 
    {
     "cell_type": "code", 
     "collapsed": false, 
     "input": [
      "plt.hist(lum_img.flatten(), 256, range=(0.0,1.0), fc='k', ec='k');"
     ], 
     "language": "python", 
     "outputs": [], 
     "prompt_number": 8
    }, 
    {
     "cell_type": "code", 
     "collapsed": false, 
     "input": [
      "fig, (ax1, ax2) = plt.subplots(1, 2, figsize=(10,4))", 
      "", 
      "imgplot1 = ax1.imshow(lum_img)", 
      "ax1.set_title('Before')", 
      "fig.colorbar(imgplot1, ax=ax1, ticks=[0.1,0.3,0.5,0.7], orientation ='horizontal')", 
      "", 
      "imgplot2 = ax2.imshow(lum_img)", 
      "imgplot2.set_clim(0.0,0.7)", 
      "ax2.set_title('After')", 
      "fig.colorbar(imgplot2, ax=ax2, ticks=[0.1,0.3,0.5,0.7], orientation='horizontal');"
     ], 
     "language": "python", 
     "outputs": [], 
     "prompt_number": 9
    }, 
    {
     "cell_type": "code", 
     "collapsed": true, 
     "input": [
      "import Image", 
      "img = Image.open('data/stinkbug.png')    # Open image as PIL image object", 
      "rsize = img.resize((img.size[0]/10, img.size[1]/10)) # Use PIL to resize", 
      "rsizeArr = np.asarray(rsize)  # Get array back"
     ], 
     "language": "python", 
     "outputs": [], 
     "prompt_number": 10
    }, 
    {
     "cell_type": "code", 
     "collapsed": false, 
     "input": [
      "imgplot = plt.imshow(rsizeArr, interpolation='bilinear')"
     ], 
     "language": "python", 
     "outputs": [], 
     "prompt_number": 11
    }, 
    {
     "cell_type": "code", 
     "collapsed": false, 
     "input": [
      "imgplot.set_interpolation('nearest')", 
      "imgplot.figure"
     ], 
     "language": "python", 
     "outputs": [], 
     "prompt_number": 12
    }, 
    {
     "cell_type": "code", 
     "collapsed": false, 
     "input": [
      "imgplot.set_interpolation('bicubic')", 
      "imgplot.figure"
     ], 
     "language": "python", 
     "outputs": [], 
     "prompt_number": 13
    }
   ]
  }
 ]
}